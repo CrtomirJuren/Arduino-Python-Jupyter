{
 "cells": [
  {
   "cell_type": "markdown",
   "metadata": {},
   "source": [
    "# Serial 1\n",
    "\n",
    "Simple analog receive over serial"
   ]
  },
  {
   "cell_type": "code",
   "execution_count": 40,
   "metadata": {},
   "outputs": [],
   "source": [
    "import conda\n",
    "import serial\n",
    "import time"
   ]
  },
  {
   "cell_type": "code",
   "execution_count": 43,
   "metadata": {},
   "outputs": [
    {
     "name": "stdout",
     "output_type": "stream",
     "text": [
      "983\n"
     ]
    }
   ],
   "source": [
    "# open serial port\n",
    "ser = serial.Serial('COM5', 9600, timeout = 1)\n",
    "\n",
    "# wait for it to open\n",
    "time.sleep(2)\n",
    "\n",
    "# RECEIVE BYTES\n",
    "# read a byte string\n",
    "b = ser.readline()\n",
    "\n",
    "# BYTES -> STRING\n",
    "# decode byte string into Unicode \n",
    "string_n = b.decode()  \n",
    "\n",
    "# STRING -> STRING with termination characters removed\n",
    "# remove \\n and \\r\n",
    "string = string_n.rstrip() \n",
    "\n",
    "# STRING -> NUMBER (float)\n",
    "# convert string to float\n",
    "flt = int(string)       \n",
    "print(flt)\n",
    "\n",
    "# close serial port\n",
    "ser.close()"
   ]
  },
  {
   "cell_type": "code",
   "execution_count": 42,
   "metadata": {},
   "outputs": [
    {
     "name": "stdout",
     "output_type": "stream",
     "text": [
      "b'983\\r\\n'\n",
      "<class 'bytes'>\n",
      "983\r\n",
      "\n",
      "<class 'str'>\n",
      "983\n",
      "<class 'str'>\n",
      "983\n",
      "<class 'int'>\n"
     ]
    }
   ],
   "source": [
    "print(b) # b'83\\r\\n'\n",
    "print(type(b))\n",
    "\n",
    "print(string_n)\n",
    "print(type(string_n))\n",
    "\n",
    "print(string)\n",
    "print(type(string))\n",
    "\n",
    "print(flt)\n",
    "print(type(flt))"
   ]
  },
  {
   "cell_type": "markdown",
   "metadata": {},
   "source": [
    "## RAZUMEVANJE\n",
    "\n",
    "Zakaj je print v novo vrstico? Zato ker ta string še vsebuje termination character, ki jih moramo odstranit\n",
    "\n",
    "<code>\n",
    "b'983\\r\\n'\n",
    "<class 'bytes'>\n",
    "983\n",
    "\n",
    "<class 'str'>\n",
    "983\n",
    "<class 'str'>\n",
    "983\n",
    "<class 'int'>\n",
    "</code>"
   ]
  },
  {
   "cell_type": "code",
   "execution_count": null,
   "metadata": {},
   "outputs": [],
   "source": []
  }
 ],
 "metadata": {
  "kernelspec": {
   "display_name": "Python 3",
   "language": "python",
   "name": "python3"
  },
  "language_info": {
   "codemirror_mode": {
    "name": "ipython",
    "version": 3
   },
   "file_extension": ".py",
   "mimetype": "text/x-python",
   "name": "python",
   "nbconvert_exporter": "python",
   "pygments_lexer": "ipython3",
   "version": "3.7.9"
  }
 },
 "nbformat": 4,
 "nbformat_minor": 4
}
